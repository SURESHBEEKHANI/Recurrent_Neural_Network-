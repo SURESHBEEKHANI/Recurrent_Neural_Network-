{
  "nbformat": 4,
  "nbformat_minor": 0,
  "metadata": {
    "colab": {
      "provenance": [],
      "authorship_tag": "ABX9TyP6TTjJLXiN2jJnoeN85E+i",
      "include_colab_link": true
    },
    "kernelspec": {
      "name": "python3",
      "display_name": "Python 3"
    },
    "language_info": {
      "name": "python"
    }
  },
  "cells": [
    {
      "cell_type": "markdown",
      "metadata": {
        "id": "view-in-github",
        "colab_type": "text"
      },
      "source": [
        "<a href=\"https://colab.research.google.com/github/SURESHBEEKHANI/-Implementation-of-RNNs-and-LSTM/blob/main/RNNs_and_LSTMs.ipynb\" target=\"_parent\"><img src=\"https://colab.research.google.com/assets/colab-badge.svg\" alt=\"Open In Colab\"/></a>"
      ]
    },
    {
      "cell_type": "markdown",
      "source": [
        "# Building a Recurrent Neural Network (RNN)"
      ],
      "metadata": {
        "id": "mfBdRDepPcwP"
      }
    },
    {
      "cell_type": "code",
      "execution_count": 10,
      "metadata": {
        "id": "VWYvPmfDLglL"
      },
      "outputs": [],
      "source": [
        "# Import the NumPy library for numerical operations, using 'np' as a shorthand\n",
        "import numpy as np\n",
        "import pandas as pd\n",
        "\n",
        "# Import the TensorFlow library for building machine learning models, using 'tf' as a shorthand\n",
        "import tensorflow as tf\n",
        "\n",
        "# Import specific layers from TensorFlow's Keras module to build neural networks\n",
        "from tensorflow.keras.layers import Dense, SimpleRNN, Embedding\n",
        "\n",
        "# Import the Tokenizer class from TensorFlow's Keras preprocessing module to handle text data\n",
        "from tensorflow.keras.preprocessing.text import Tokenizer\n",
        "\n",
        "from tensorflow.keras.preprocessing.sequence import  pad_sequences\n"
      ]
    },
    {
      "cell_type": "markdown",
      "source": [
        " # Simple text data"
      ],
      "metadata": {
        "id": "YCVe-vqkZiNX"
      }
    },
    {
      "cell_type": "code",
      "source": [
        "#load the data set\n",
        "data=pd.read_csv(\"data.csv\")"
      ],
      "metadata": {
        "id": "92VH2s_ZYRQV"
      },
      "execution_count": 13,
      "outputs": []
    },
    {
      "cell_type": "code",
      "source": [],
      "metadata": {
        "id": "4Owm27khZlOO"
      },
      "execution_count": null,
      "outputs": []
    }
  ]
}